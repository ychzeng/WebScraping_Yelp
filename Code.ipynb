{
 "cells": [
  {
   "cell_type": "markdown",
   "id": "219ccf22",
   "metadata": {},
   "source": [
    "## Individual Project 2"
   ]
  },
  {
   "cell_type": "code",
   "execution_count": 43,
   "id": "6aa3fe9b",
   "metadata": {},
   "outputs": [],
   "source": [
    "from bs4 import BeautifulSoup\n",
    "import requests\n",
    "import time\n",
    "import random\n",
    "import re"
   ]
  },
  {
   "cell_type": "markdown",
   "id": "c6c8a442",
   "metadata": {},
   "source": [
    "(1) Yelp uses GET requests for its search. Using Python or Java (Selenium is OK to use but not required and may be more cumbersome here; I didn't use Selenium), write a program that searches on yelp.com for the top-40 “Donut Shop” in the San Francisco area (no need to verify that the shop is actually selling donuts, just search for “Donut Shop”, top 40 shops according to Yelp's \"Recommended\" sorting). Save each search result page to disk, “sf_donut_shop_search_page_[PN].htm” (replace [PN] with the page number). Please make sure to pause after loading each page. (25 points)"
   ]
  },
  {
   "cell_type": "code",
   "execution_count": 10,
   "id": "da4e1925",
   "metadata": {},
   "outputs": [],
   "source": [
    "# set the header and base URL\n",
    "headers = {'User-agent': 'Mozilla/5.0'}\n",
    "URL_base = 'https://www.yelp.com/search?find_desc=Donut+Shop&find_loc=San+Francisco%2C+CA+94102'"
   ]
  },
  {
   "cell_type": "code",
   "execution_count": 12,
   "id": "430f628b",
   "metadata": {},
   "outputs": [
    {
     "name": "stdout",
     "output_type": "stream",
     "text": [
      "page 1 complete!\n",
      "page 2 complete!\n",
      "page 3 complete!\n",
      "page 4 complete!\n"
     ]
    }
   ],
   "source": [
    "for i in range(0,4):\n",
    "    # create page variable\n",
    "    page_var = '&start='+str(i*10)\n",
    "    # add page variable to the base URL\n",
    "    URL = URL_base+page_var\n",
    "\n",
    "    # request the URL page content\n",
    "    page = requests.get(URL, headers=headers)\n",
    "\n",
    "    ## save the content to a new file\n",
    "    # create file name\n",
    "    f_name = 'sf_donut_shop_search_page_'+str(i+1)+'.htm'\n",
    "    # create and open a file\n",
    "    f = open(f_name,'wb+')\n",
    "    # write to the file\n",
    "    f.write(page.content)\n",
    "    #close the file\n",
    "    f.close()\n",
    "    print('page',str(i+1),'complete!')\n",
    "    \n",
    "    # wait before accessing next page\n",
    "    time.sleep(random.randint(5,10))"
   ]
  },
  {
   "cell_type": "markdown",
   "id": "3ef12350",
   "metadata": {},
   "source": [
    "(2) Using Python or Java, write new code that opens the search result pages saved in (1) and parses out all shop information (search rank, name, linked URL [this store’s Yelp URL], star rating, number of reviews, store tags, “$” signs, delivery / dine-in tags, and whether you can order through Yelp). Please be sure to skip all “Sponsored Results”. (15 points)"
   ]
  },
  {
   "cell_type": "code",
   "execution_count": 154,
   "id": "84d0f3d0",
   "metadata": {},
   "outputs": [],
   "source": [
    "# create an empty list to store the 4 beatifulsoup objects\n",
    "soup_list = []\n",
    "for p in range(1,5):\n",
    "    # open the file\n",
    "    f_name = 'sf_donut_shop_search_page_'+str(p)+'.htm'\n",
    "    with open(f_name, 'r', encoding='utf-8') as t:\n",
    "        soup = BeautifulSoup(t.read(), 'lxml')\n",
    "    # append to the list\n",
    "    soup_list.append(soup)"
   ]
  },
  {
   "cell_type": "code",
   "execution_count": 183,
   "id": "34a804da",
   "metadata": {},
   "outputs": [],
   "source": [
    "# find all 40 containers\n",
    "target_div = []\n",
    "for i in soup_list:\n",
    "    new_div = i.find_all(\"div\",{\"class\":'container__09f24__mpR8_ hoverable__09f24__wQ_on margin-t3__09f24__riq4X margin-b3__09f24__l9v5d padding-t3__09f24__TMrIW padding-r3__09f24__eaF7p padding-b3__09f24__S8R2d padding-l3__09f24__IOjKY border--top__09f24__exYYb border--right__09f24__X7Tln border--bottom__09f24___mg5X border--left__09f24__DMOkM border-color--default__09f24__NPAKY'})\n",
    "    # exclude sponsored resutls\n",
    "    new_target_div = new_div[2:12]\n",
    "    target_div.extend(new_target_div)"
   ]
  },
  {
   "cell_type": "code",
   "execution_count": 185,
   "id": "1fa2fe5c",
   "metadata": {},
   "outputs": [
    {
     "name": "stdout",
     "output_type": "stream",
     "text": [
      "1 Bob’s Donuts & Pastry Shop\n",
      "2 Dough\n",
      "3 Happy Donut\n",
      "4 Gateway Croissant\n",
      "5 Hahdough\n",
      "6 Johnny Doughnuts\n",
      "7 Mochill Mochi Donut\n",
      "8 All Star Cafe\n",
      "9 Bob’s Donuts\n",
      "10 Donuts & Things\n",
      "11 Grand Mission Donuts & Bakery\n",
      "12 Donut Farm\n",
      "13 All Stars Donuts\n",
      "14 Happy Donut\n",
      "15 Paradise Coffee and Donuts\n",
      "16 All Star Cafe\n",
      "17 Jim Georgie’s Donuts\n",
      "18 Happy Donuts\n",
      "19 Happy Donuts\n",
      "20 Allstar Donuts & Burgers\n",
      "21 Choux\n",
      "22 Milkbomb Ice Cream\n",
      "23 Inga Donut\n",
      "24 ONE65 Patisserie & Boutique\n",
      "25 Cafe Madeleine\n",
      "26 Fillmore Bakeshop\n",
      "27 Les Gourmands Bakery\n",
      "28 The Posh Bagel\n",
      "29 Jane The Bakery\n",
      "30 Les Croissants Cafe\n",
      "31 Hot Cookie\n",
      "32 Golden Gate Bakery\n",
      "33 Le Bonta Italiane\n",
      "34 Craftsman and Wolves\n",
      "35 Benkyodo\n",
      "36 Yasukochi’s Sweet Stop\n",
      "37 Lilikoi\n",
      "38 Latte Express\n",
      "39 Star Bagel\n",
      "40 Blue Bottle Coffee\n"
     ]
    }
   ],
   "source": [
    "# rank and name\n",
    "for i in target_div:\n",
    "    h3 = i.find(\"h3\",{\"class\":'css-uvzfg9'})\n",
    "    rst = h3.text\n",
    "    match = re.match('(\\d+)\\.\\s(.+)',rst)\n",
    "    rank = match.group(1)\n",
    "    name = match.group(2)\n",
    "    print(rank,name)"
   ]
  },
  {
   "cell_type": "code",
   "execution_count": 186,
   "id": "71eebf0f",
   "metadata": {
    "scrolled": true
   },
   "outputs": [
    {
     "name": "stdout",
     "output_type": "stream",
     "text": [
      "/biz/bobs-donuts-and-pastry-shop-san-francisco?osq=Donut+Shop\n",
      "/biz/dough-san-francisco?osq=Donut+Shop\n",
      "/biz/happy-donut-san-francisco-8?osq=Donut+Shop\n",
      "/biz/gateway-croissant-san-francisco-2?osq=Donut+Shop\n",
      "/biz/hahdough-san-francisco-5?osq=Donut+Shop\n",
      "/biz/johnny-doughnuts-san-francisco-4?osq=Donut+Shop\n",
      "/biz/mochill-mochi-donut-san-francisco?osq=Donut+Shop\n",
      "/biz/all-star-cafe-san-francisco-3?osq=Donut+Shop\n",
      "/biz/bobs-donuts-san-francisco-2?osq=Donut+Shop\n",
      "/biz/donuts-and-things-san-francisco?osq=Donut+Shop\n",
      "/biz/grand-mission-donuts-and-bakery-san-francisco?osq=Donut+Shop\n",
      "/biz/donut-farm-san-francisco?osq=Donut+Shop\n",
      "/biz/all-stars-donuts-san-francisco?osq=Donut+Shop\n",
      "/biz/happy-donut-san-francisco-7?osq=Donut+Shop\n",
      "/biz/paradise-coffee-and-donuts-san-francisco?osq=Donut+Shop\n",
      "/biz/all-star-cafe-san-francisco?osq=Donut+Shop\n",
      "/biz/jim-georgies-donuts-san-francisco-2?osq=Donut+Shop\n",
      "/biz/happy-donuts-san-francisco-19?osq=Donut+Shop\n",
      "/biz/happy-donuts-san-francisco-4?osq=Donut+Shop\n",
      "/biz/allstar-donuts-and-burgers-san-francisco?osq=Donut+Shop\n",
      "/biz/choux-san-francisco?osq=Donut+Shop\n",
      "/biz/milkbomb-ice-cream-san-francisco-3?osq=Donut+Shop\n",
      "/biz/inga-donut-san-francisco?osq=Donut+Shop\n",
      "/biz/one65-patisserie-and-boutique-san-francisco-3?osq=Donut+Shop\n",
      "/biz/cafe-madeleine-san-francisco-3?osq=Donut+Shop\n",
      "/biz/fillmore-bakeshop-san-francisco?osq=Donut+Shop\n",
      "/biz/les-gourmands-bakery-san-francisco?osq=Donut+Shop\n",
      "/biz/the-posh-bagel-san-francisco-4?osq=Donut+Shop\n",
      "/biz/jane-the-bakery-san-francisco?osq=Donut+Shop\n",
      "/biz/les-croissants-cafe-san-francisco?osq=Donut+Shop\n",
      "/biz/hot-cookie-san-francisco?osq=Donut+Shop\n",
      "/biz/golden-gate-bakery-san-francisco?osq=Donut+Shop\n",
      "/biz/le-bonta-italiane-san-francisco?osq=Donut+Shop\n",
      "/biz/craftsman-and-wolves-san-francisco?osq=Donut+Shop\n",
      "/biz/benkyodo-san-francisco?osq=Donut+Shop\n",
      "/biz/yasukochis-sweet-stop-san-francisco?osq=Donut+Shop\n",
      "/biz/lilikoi-san-francisco?osq=Donut+Shop\n",
      "/biz/latte-express-san-francisco-2?osq=Donut+Shop\n",
      "/biz/star-bagel-san-francisco?osq=Donut+Shop\n",
      "/biz/blue-bottle-coffee-san-francisco-21?osq=Donut+Shop\n"
     ]
    }
   ],
   "source": [
    "# url\n",
    "for i in target_div:\n",
    "    a = i.find(\"a\",{\"class\":'css-1422juy'})\n",
    "    url = a.get('href')\n",
    "    print(url)"
   ]
  },
  {
   "cell_type": "code",
   "execution_count": 205,
   "id": "93930f97",
   "metadata": {
    "scrolled": true
   },
   "outputs": [
    {
     "name": "stdout",
     "output_type": "stream",
     "text": [
      "4.5\n",
      "4.5\n",
      "4\n",
      "3.5\n",
      "4.5\n",
      "3.5\n",
      "4.5\n",
      "4\n",
      "4.5\n",
      "4.5\n",
      "4\n",
      "4\n",
      "3.5\n",
      "4\n",
      "3.5\n",
      "3.5\n",
      "3.5\n",
      "3.5\n",
      "3.5\n",
      "3.5\n",
      "4\n",
      "4.5\n",
      "3\n",
      "4.5\n",
      "4\n",
      "4\n",
      "4.5\n",
      "3.5\n",
      "4.5\n",
      "3.5\n",
      "4\n",
      "4.5\n",
      "4.5\n",
      "4\n",
      "4.5\n",
      "4.5\n",
      "4.5\n",
      "3.5\n",
      "3.5\n",
      "4\n"
     ]
    }
   ],
   "source": [
    "# star\n",
    "for i in target_div:\n",
    "    span = i.find(\"span\",{\"class\":'display--inline__09f24__c6N_k border-color--default__09f24__NPAKY'})\n",
    "    div = span.find('div')\n",
    "    label = div.get('aria-label')\n",
    "    match = re.match('(\\d\\.*\\d*)(.*)',label)\n",
    "    star = match.group(1)\n",
    "    print(star)"
   ]
  },
  {
   "cell_type": "code",
   "execution_count": 188,
   "id": "11d2fb46",
   "metadata": {
    "scrolled": true
   },
   "outputs": [
    {
     "name": "stdout",
     "output_type": "stream",
     "text": [
      "3328\n",
      "73\n",
      "42\n",
      "125\n",
      "72\n",
      "220\n",
      "819\n",
      "208\n",
      "117\n",
      "119\n",
      "104\n",
      "319\n",
      "129\n",
      "185\n",
      "6\n",
      "134\n",
      "26\n",
      "218\n",
      "73\n",
      "28\n",
      "302\n",
      "701\n",
      "37\n",
      "314\n",
      "494\n",
      "550\n",
      "386\n",
      "388\n",
      "478\n",
      "46\n",
      "1540\n",
      "3395\n",
      "12\n",
      "1641\n",
      "1190\n",
      "729\n",
      "127\n",
      "119\n",
      "121\n",
      "2244\n"
     ]
    }
   ],
   "source": [
    "# number of reviews\n",
    "for i in target_div:\n",
    "    span = i.find(\"span\",{\"class\":'reviewCount__09f24__tnBk4 css-1e4fdj9'})\n",
    "    review_num = span.text\n",
    "    print(review_num)"
   ]
  },
  {
   "cell_type": "code",
   "execution_count": 189,
   "id": "ba575da4",
   "metadata": {
    "scrolled": true
   },
   "outputs": [],
   "source": [
    "# store tags\n",
    "tag_list = []\n",
    "for i in target_div:\n",
    "    tag_button = i.find_all(\"p\",{\"class\":'css-1p8aobs'})\n",
    "    new = []\n",
    "    for t in tag_button:\n",
    "        tags = t.text\n",
    "        new.append(tags)\n",
    "    tag_list.append(new)"
   ]
  },
  {
   "cell_type": "code",
   "execution_count": 192,
   "id": "5c466549",
   "metadata": {
    "scrolled": true
   },
   "outputs": [
    {
     "data": {
      "text/plain": [
       "[['Bakeries', 'Donuts'],\n",
       " ['Donuts', 'Pizza'],\n",
       " ['Donuts'],\n",
       " ['Coffee & Tea', 'Donuts', 'Bagels'],\n",
       " ['Donuts', 'Patisserie/Cake Shop', 'Pretzels'],\n",
       " ['Donuts', 'Coffee & Tea', 'Food Trucks'],\n",
       " ['Donuts'],\n",
       " ['Donuts', 'Coffee & Tea', 'Breakfast & Brunch'],\n",
       " ['Donuts', 'Bakeries'],\n",
       " ['Donuts', 'Coffee & Tea'],\n",
       " ['Donuts', 'Bakeries'],\n",
       " ['Donuts', 'Vegan'],\n",
       " ['Donuts', 'Coffee & Tea', 'Fast Food'],\n",
       " ['Donuts', 'Coffee & Tea', 'Sandwiches'],\n",
       " ['Donuts'],\n",
       " ['Coffee & Tea', 'Cafes'],\n",
       " ['Donuts'],\n",
       " ['Donuts', 'Vietnamese', 'Thai'],\n",
       " ['Donuts', 'Bagels', 'Breakfast & Brunch'],\n",
       " ['Burgers', 'Donuts'],\n",
       " ['Bakeries', 'Desserts', 'French'],\n",
       " ['Ice Cream & Frozen Yogurt', 'Donuts'],\n",
       " ['Donuts', 'Chinese'],\n",
       " ['Patisserie/Cake Shop', 'Bakeries', 'Coffee & Tea'],\n",
       " ['Bakeries', 'Coffee & Tea', 'Sandwiches'],\n",
       " ['Desserts', 'Bakeries'],\n",
       " ['Bakeries', 'Coffee & Tea', 'Patisserie/Cake Shop'],\n",
       " ['Bakeries', 'Bagels', 'Coffee & Tea'],\n",
       " ['Bakeries', 'Coffee & Tea', 'Breakfast & Brunch'],\n",
       " ['Coffee & Tea', 'Donuts', 'Delis'],\n",
       " ['Bakeries', 'Desserts'],\n",
       " ['Bakeries'],\n",
       " ['Bakeries', 'Donuts', 'Pop-up Shops'],\n",
       " ['Bakeries', 'Patisserie/Cake Shop', 'Coffee & Tea'],\n",
       " ['Bakeries', 'Candy Stores'],\n",
       " ['Bakeries', 'Desserts'],\n",
       " ['Bubble Tea', 'Coffee & Tea', 'Donuts'],\n",
       " ['Coffee & Tea', 'Sandwiches', 'Breakfast & Brunch'],\n",
       " ['Bagels'],\n",
       " ['Coffee & Tea']]"
      ]
     },
     "execution_count": 192,
     "metadata": {},
     "output_type": "execute_result"
    }
   ],
   "source": [
    "tag_list"
   ]
  },
  {
   "cell_type": "code",
   "execution_count": 194,
   "id": "3faf7836",
   "metadata": {
    "scrolled": true
   },
   "outputs": [
    {
     "name": "stdout",
     "output_type": "stream",
     "text": [
      "$\n",
      "Null\n",
      "$\n",
      "$\n",
      "$$\n",
      "$$\n",
      "Null\n",
      "$\n",
      "$\n",
      "$\n",
      "$\n",
      "$\n",
      "$\n",
      "$\n",
      "$\n",
      "$\n",
      "$\n",
      "$\n",
      "$\n",
      "$\n",
      "$\n",
      "$$\n",
      "$\n",
      "$$\n",
      "$\n",
      "$$\n",
      "$$\n",
      "$$\n",
      "$\n",
      "$\n",
      "$$\n",
      "$\n",
      "$\n",
      "$$\n",
      "$$\n",
      "$$\n",
      "Null\n",
      "$\n",
      "$\n",
      "$$\n"
     ]
    }
   ],
   "source": [
    "# “$” signs\n",
    "for i in target_div:\n",
    "    span = i.find(\"span\",{\"class\":\"priceRange__09f24__mmOuH css-18qxe2r\"})\n",
    "    try:\n",
    "        price = span.text\n",
    "        print(price)\n",
    "    except:\n",
    "        print('Null')"
   ]
  },
  {
   "cell_type": "code",
   "execution_count": 195,
   "id": "00828e72",
   "metadata": {
    "scrolled": true
   },
   "outputs": [
    {
     "name": "stdout",
     "output_type": "stream",
     "text": [
      "[] []\n",
      "['Delivery', 'Takeout'] [1, 1]\n",
      "[] []\n",
      "['Outdoor dining', 'Delivery', 'Takeout'] [0, 1, 1]\n",
      "['Delivery'] [1]\n",
      "['Outdoor dining', 'Delivery', 'Takeout'] [1, 1, 1]\n",
      "['Takeout'] [1]\n",
      "['Delivery', 'Takeout'] [1, 1]\n",
      "['Takeout'] [1]\n",
      "['Outdoor dining', 'Delivery', 'Takeout'] [0, 0, 1]\n",
      "[] []\n",
      "['Takeout'] [1]\n",
      "[] []\n",
      "[] []\n",
      "[] []\n",
      "['Delivery', 'Takeout'] [1, 1]\n",
      "[] []\n",
      "[] []\n",
      "[] []\n",
      "[] []\n",
      "['Outdoor dining', 'Delivery', 'Takeout'] [0, 1, 1]\n",
      "['Delivery', 'Takeout', 'Curbside Pickup'] [1, 1, 0]\n",
      "[] []\n",
      "['Delivery', 'Takeout', 'Curbside Pickup'] [1, 1, 0]\n",
      "['Outdoor dining', 'Delivery', 'Takeout'] [1, 1, 1]\n",
      "['Delivery', 'Takeout'] [0, 1]\n",
      "[] []\n",
      "['Outdoor dining', 'Delivery', 'Takeout'] [0, 0, 1]\n",
      "['Delivery', 'Takeout'] [1, 1]\n",
      "[] []\n",
      "['Delivery', 'Takeout', 'Curbside Pickup'] [1, 1, 1]\n",
      "['Takeout'] [1]\n",
      "[] []\n",
      "['Outdoor dining', 'Delivery', 'Takeout'] [1, 1, 1]\n",
      "[] []\n",
      "[] []\n",
      "['Proof of vaccination required', 'Delivery', 'Takeout', 'Curbside Pickup'] [0, 1, 1, 1]\n",
      "[] []\n",
      "[] []\n",
      "['Delivery', 'Takeout'] [1, 0]\n"
     ]
    }
   ],
   "source": [
    "# delivery / dine-in tags\n",
    "for i in target_div:\n",
    "    div = i.find_all(\"div\",{\"class\":\"tag__09f24__mjBHZ css-1v994a0 margin-t0-5__09f24__gboxT border-color--default__09f24__NPAKY\"})\n",
    "    index_list = []\n",
    "    value_list = []\n",
    "    for t in div:\n",
    "        try:\n",
    "            index = t.find(\"span\",{\"class\":\"raw__09f24__T4Ezm\"}).text\n",
    "            index_list.append(index)\n",
    "            true = t.find(\"span\",{\"class\":\"icon--16-checkmark-v2 css-1z0vsn7\"})\n",
    "            if true == None:\n",
    "                value = 0\n",
    "            else:\n",
    "                value = 1\n",
    "            value_list.append(value)\n",
    "        except:\n",
    "            None\n",
    "    print(index_list,value_list)"
   ]
  },
  {
   "cell_type": "code",
   "execution_count": 196,
   "id": "5250ed78",
   "metadata": {},
   "outputs": [
    {
     "name": "stdout",
     "output_type": "stream",
     "text": [
      "0\n",
      "1\n",
      "0\n",
      "1\n",
      "0\n",
      "0\n",
      "0\n",
      "1\n",
      "0\n",
      "0\n",
      "0\n",
      "0\n",
      "0\n",
      "0\n",
      "0\n",
      "0\n",
      "0\n",
      "0\n",
      "0\n",
      "0\n",
      "1\n",
      "0\n",
      "0\n",
      "1\n",
      "0\n",
      "0\n",
      "0\n",
      "0\n",
      "1\n",
      "0\n",
      "0\n",
      "0\n",
      "0\n",
      "0\n",
      "0\n",
      "0\n",
      "1\n",
      "0\n",
      "0\n",
      "0\n"
     ]
    }
   ],
   "source": [
    "# whether you can order through Yelp\n",
    "for i in target_div:\n",
    "    span = i.find(\"span\",{\"class\":\"css-1enow5j\"})\n",
    "    if span == None:\n",
    "        order = 0\n",
    "    else:\n",
    "        order =1\n",
    "    print(order)"
   ]
  },
  {
   "cell_type": "markdown",
   "id": "97765cc5",
   "metadata": {},
   "source": [
    "(3) Adjust your code in (2) to create a MongoDB collection called “sf_donut_shops” that stores all the extracted shop information, one document for each shop. (10 points)"
   ]
  },
  {
   "cell_type": "code",
   "execution_count": 197,
   "id": "da2d1ab1",
   "metadata": {},
   "outputs": [],
   "source": [
    "import pymongo"
   ]
  },
  {
   "cell_type": "code",
   "execution_count": 200,
   "id": "de971bcd",
   "metadata": {},
   "outputs": [],
   "source": [
    "# create a MongoDB\n",
    "myclient = pymongo.MongoClient(\"mongodb://localhost:27017/\")\n",
    "mydb = myclient[\"mydatabase\"]"
   ]
  },
  {
   "cell_type": "code",
   "execution_count": 201,
   "id": "ae371bcf",
   "metadata": {},
   "outputs": [],
   "source": [
    "# create a collection\n",
    "sf_donut_shops = mydb[\"sf_donut_shops\"]"
   ]
  },
  {
   "cell_type": "code",
   "execution_count": 215,
   "id": "5b918e49",
   "metadata": {},
   "outputs": [],
   "source": [
    "# create a list of documents\n",
    "doc_list = []\n",
    "for i in target_div:\n",
    "    new_dic = {}\n",
    "    \n",
    "    # insert rank and name\n",
    "    h3 = i.find(\"h3\",{\"class\":'css-uvzfg9'})\n",
    "    rst = h3.text\n",
    "    match = re.match('(\\d+)\\.\\s(.+)',rst)\n",
    "    rank = match.group(1)\n",
    "    name = match.group(2)\n",
    "    new_dic['rank'] = rank\n",
    "    new_dic['name'] = name\n",
    "    \n",
    "    # insert url\n",
    "    a = i.find(\"a\",{\"class\":'css-1422juy'})\n",
    "    url = a.get('href')\n",
    "    new_dic['url'] = url\n",
    "    \n",
    "    # insert number of stars\n",
    "    span = i.find(\"span\",{\"class\":'display--inline__09f24__c6N_k border-color--default__09f24__NPAKY'})\n",
    "    div = span.find('div')\n",
    "    label = div.get('aria-label')\n",
    "    match = re.match('(\\d\\.*\\d*)(.*)',label)\n",
    "    star = match.group(1)\n",
    "    new_dic['stars'] =  star\n",
    "    \n",
    "    # insert number of reviews\n",
    "    span2 = i.find(\"span\",{\"class\":'reviewCount__09f24__tnBk4 css-1e4fdj9'})\n",
    "    review_num = span2.text\n",
    "    new_dic['reviews'] = review_num\n",
    "    \n",
    "    # insert store tags\n",
    "    tag_button = i.find_all(\"p\",{\"class\":'css-1p8aobs'})\n",
    "    new = []\n",
    "    for t in tag_button:\n",
    "        tags = t.text\n",
    "        new.append(tags)\n",
    "    sep = '|'\n",
    "    tags = sep.join(new)\n",
    "    new_dic['tags'] = tags\n",
    "    \n",
    "    # insert $ signs\n",
    "    span3 = i.find(\"span\",{\"class\":\"priceRange__09f24__mmOuH css-18qxe2r\"})\n",
    "    try:\n",
    "        price = span3.text\n",
    "    except:\n",
    "        price = None\n",
    "    new_dic['price'] = price\n",
    "    \n",
    "    # insert Outdoor dining / delivery / takeout tags\n",
    "    new_dic['dining'] = None\n",
    "    new_dic['delivery'] = None\n",
    "    new_dic['takeout'] = None\n",
    "    div2 = i.find_all(\"div\",{\"class\":\"tag__09f24__mjBHZ css-1v994a0 margin-t0-5__09f24__gboxT border-color--default__09f24__NPAKY\"})\n",
    "    index_list = []\n",
    "    value_list = []\n",
    "    for t in div2:\n",
    "        try:\n",
    "            index = t.find(\"span\",{\"class\":\"raw__09f24__T4Ezm\"}).text\n",
    "            index_list.append(index)\n",
    "            true = t.find(\"span\",{\"class\":\"icon--16-checkmark-v2 css-1z0vsn7\"})\n",
    "            if true == None:\n",
    "                value = 0\n",
    "            else:\n",
    "                value = 1\n",
    "            value_list.append(value)\n",
    "        except:\n",
    "            None\n",
    "    if len(index_list) != 0:\n",
    "        for l in range(0,len(index_list)):\n",
    "            if index_list[l] == 'Outdoor dining':\n",
    "                new_dic['dining'] = value_list[l]\n",
    "            if index_list[l] == 'Delivery':\n",
    "                new_dic['delivery'] = value_list[l]\n",
    "            if index_list[l] == 'Takeout':\n",
    "                new_dic['takeout'] = value_list[l]\n",
    "    \n",
    "    # insert whether you can order through Yelp\n",
    "    span4 = i.find(\"span\",{\"class\":\"css-1enow5j\"})\n",
    "    if span4 == None:\n",
    "        new_dic['yelp'] = 0\n",
    "    else:\n",
    "        new_dic['yelp'] = 1\n",
    "    \n",
    "    # append new document to the list\n",
    "    doc_list.append(new_dic)"
   ]
  },
  {
   "cell_type": "code",
   "execution_count": 219,
   "id": "2b90ed5d",
   "metadata": {},
   "outputs": [],
   "source": [
    "# insert into the collection\n",
    "rst = sf_donut_shops.insert_many(doc_list)"
   ]
  },
  {
   "cell_type": "code",
   "execution_count": 229,
   "id": "6e187b46",
   "metadata": {},
   "outputs": [
    {
     "name": "stdout",
     "output_type": "stream",
     "text": [
      "{'_id': ObjectId('62204089fb45f97290ef646f'), 'rank': '1', 'name': 'Bob’s Donuts & Pastry Shop', 'url': '/biz/bobs-donuts-and-pastry-shop-san-francisco?osq=Donut+Shop', 'stars': '4.5', 'reviews': '3328', 'tags': 'Bakeries|Donuts', 'price': '$', 'dining': None, 'delivery': None, 'takeout': None, 'yelp': 0}\n",
      "{'_id': ObjectId('62204089fb45f97290ef6470'), 'rank': '2', 'name': 'Dough', 'url': '/biz/dough-san-francisco?osq=Donut+Shop', 'stars': '4.5', 'reviews': '73', 'tags': 'Donuts|Pizza', 'price': None, 'dining': None, 'delivery': 1, 'takeout': 1, 'yelp': 1}\n",
      "{'_id': ObjectId('62204089fb45f97290ef6471'), 'rank': '3', 'name': 'Happy Donut', 'url': '/biz/happy-donut-san-francisco-8?osq=Donut+Shop', 'stars': '4', 'reviews': '42', 'tags': 'Donuts', 'price': '$', 'dining': None, 'delivery': None, 'takeout': None, 'yelp': 0}\n",
      "{'_id': ObjectId('62204089fb45f97290ef6472'), 'rank': '4', 'name': 'Gateway Croissant', 'url': '/biz/gateway-croissant-san-francisco-2?osq=Donut+Shop', 'stars': '3.5', 'reviews': '125', 'tags': 'Coffee & Tea|Donuts|Bagels', 'price': '$', 'dining': 0, 'delivery': 1, 'takeout': 1, 'yelp': 1}\n",
      "{'_id': ObjectId('62204089fb45f97290ef6473'), 'rank': '5', 'name': 'Hahdough', 'url': '/biz/hahdough-san-francisco-5?osq=Donut+Shop', 'stars': '4.5', 'reviews': '72', 'tags': 'Donuts|Patisserie/Cake Shop|Pretzels', 'price': '$$', 'dining': None, 'delivery': 1, 'takeout': None, 'yelp': 0}\n",
      "{'_id': ObjectId('62204089fb45f97290ef6474'), 'rank': '6', 'name': 'Johnny Doughnuts', 'url': '/biz/johnny-doughnuts-san-francisco-4?osq=Donut+Shop', 'stars': '3.5', 'reviews': '220', 'tags': 'Donuts|Coffee & Tea|Food Trucks', 'price': '$$', 'dining': 1, 'delivery': 1, 'takeout': 1, 'yelp': 0}\n",
      "{'_id': ObjectId('62204089fb45f97290ef6475'), 'rank': '7', 'name': 'Mochill Mochi Donut', 'url': '/biz/mochill-mochi-donut-san-francisco?osq=Donut+Shop', 'stars': '4.5', 'reviews': '819', 'tags': 'Donuts', 'price': None, 'dining': None, 'delivery': None, 'takeout': 1, 'yelp': 0}\n",
      "{'_id': ObjectId('62204089fb45f97290ef6476'), 'rank': '8', 'name': 'All Star Cafe', 'url': '/biz/all-star-cafe-san-francisco-3?osq=Donut+Shop', 'stars': '4', 'reviews': '208', 'tags': 'Donuts|Coffee & Tea|Breakfast & Brunch', 'price': '$', 'dining': None, 'delivery': 1, 'takeout': 1, 'yelp': 1}\n",
      "{'_id': ObjectId('62204089fb45f97290ef6477'), 'rank': '9', 'name': 'Bob’s Donuts', 'url': '/biz/bobs-donuts-san-francisco-2?osq=Donut+Shop', 'stars': '4.5', 'reviews': '117', 'tags': 'Donuts|Bakeries', 'price': '$', 'dining': None, 'delivery': None, 'takeout': 1, 'yelp': 0}\n",
      "{'_id': ObjectId('62204089fb45f97290ef6478'), 'rank': '10', 'name': 'Donuts & Things', 'url': '/biz/donuts-and-things-san-francisco?osq=Donut+Shop', 'stars': '4.5', 'reviews': '119', 'tags': 'Donuts|Coffee & Tea', 'price': '$', 'dining': 0, 'delivery': 0, 'takeout': 1, 'yelp': 0}\n",
      "{'_id': ObjectId('62204089fb45f97290ef6479'), 'rank': '11', 'name': 'Grand Mission Donuts & Bakery', 'url': '/biz/grand-mission-donuts-and-bakery-san-francisco?osq=Donut+Shop', 'stars': '4', 'reviews': '104', 'tags': 'Donuts|Bakeries', 'price': '$', 'dining': None, 'delivery': None, 'takeout': None, 'yelp': 0}\n",
      "{'_id': ObjectId('62204089fb45f97290ef647a'), 'rank': '12', 'name': 'Donut Farm', 'url': '/biz/donut-farm-san-francisco?osq=Donut+Shop', 'stars': '4', 'reviews': '319', 'tags': 'Donuts|Vegan', 'price': '$', 'dining': None, 'delivery': None, 'takeout': 1, 'yelp': 0}\n",
      "{'_id': ObjectId('62204089fb45f97290ef647b'), 'rank': '13', 'name': 'All Stars Donuts', 'url': '/biz/all-stars-donuts-san-francisco?osq=Donut+Shop', 'stars': '3.5', 'reviews': '129', 'tags': 'Donuts|Coffee & Tea|Fast Food', 'price': '$', 'dining': None, 'delivery': None, 'takeout': None, 'yelp': 0}\n",
      "{'_id': ObjectId('62204089fb45f97290ef647c'), 'rank': '14', 'name': 'Happy Donut', 'url': '/biz/happy-donut-san-francisco-7?osq=Donut+Shop', 'stars': '4', 'reviews': '185', 'tags': 'Donuts|Coffee & Tea|Sandwiches', 'price': '$', 'dining': None, 'delivery': None, 'takeout': None, 'yelp': 0}\n",
      "{'_id': ObjectId('62204089fb45f97290ef647d'), 'rank': '15', 'name': 'Paradise Coffee and Donuts', 'url': '/biz/paradise-coffee-and-donuts-san-francisco?osq=Donut+Shop', 'stars': '3.5', 'reviews': '6', 'tags': 'Donuts', 'price': '$', 'dining': None, 'delivery': None, 'takeout': None, 'yelp': 0}\n",
      "{'_id': ObjectId('62204089fb45f97290ef647e'), 'rank': '16', 'name': 'All Star Cafe', 'url': '/biz/all-star-cafe-san-francisco?osq=Donut+Shop', 'stars': '3.5', 'reviews': '134', 'tags': 'Coffee & Tea|Cafes', 'price': '$', 'dining': None, 'delivery': 1, 'takeout': 1, 'yelp': 0}\n",
      "{'_id': ObjectId('62204089fb45f97290ef647f'), 'rank': '17', 'name': 'Jim Georgie’s Donuts', 'url': '/biz/jim-georgies-donuts-san-francisco-2?osq=Donut+Shop', 'stars': '3.5', 'reviews': '26', 'tags': 'Donuts', 'price': '$', 'dining': None, 'delivery': None, 'takeout': None, 'yelp': 0}\n",
      "{'_id': ObjectId('62204089fb45f97290ef6480'), 'rank': '18', 'name': 'Happy Donuts', 'url': '/biz/happy-donuts-san-francisco-19?osq=Donut+Shop', 'stars': '3.5', 'reviews': '218', 'tags': 'Donuts|Vietnamese|Thai', 'price': '$', 'dining': None, 'delivery': None, 'takeout': None, 'yelp': 0}\n",
      "{'_id': ObjectId('62204089fb45f97290ef6481'), 'rank': '19', 'name': 'Happy Donuts', 'url': '/biz/happy-donuts-san-francisco-4?osq=Donut+Shop', 'stars': '3.5', 'reviews': '73', 'tags': 'Donuts|Bagels|Breakfast & Brunch', 'price': '$', 'dining': None, 'delivery': None, 'takeout': None, 'yelp': 0}\n",
      "{'_id': ObjectId('62204089fb45f97290ef6482'), 'rank': '20', 'name': 'Allstar Donuts & Burgers', 'url': '/biz/allstar-donuts-and-burgers-san-francisco?osq=Donut+Shop', 'stars': '3.5', 'reviews': '28', 'tags': 'Burgers|Donuts', 'price': '$', 'dining': None, 'delivery': None, 'takeout': None, 'yelp': 0}\n",
      "{'_id': ObjectId('62204089fb45f97290ef6483'), 'rank': '21', 'name': 'Choux', 'url': '/biz/choux-san-francisco?osq=Donut+Shop', 'stars': '4', 'reviews': '302', 'tags': 'Bakeries|Desserts|French', 'price': '$', 'dining': 0, 'delivery': 1, 'takeout': 1, 'yelp': 1}\n",
      "{'_id': ObjectId('62204089fb45f97290ef6484'), 'rank': '22', 'name': 'Milkbomb Ice Cream', 'url': '/biz/milkbomb-ice-cream-san-francisco-3?osq=Donut+Shop', 'stars': '4.5', 'reviews': '701', 'tags': 'Ice Cream & Frozen Yogurt|Donuts', 'price': '$$', 'dining': None, 'delivery': 1, 'takeout': 1, 'yelp': 0}\n",
      "{'_id': ObjectId('62204089fb45f97290ef6485'), 'rank': '23', 'name': 'Inga Donut', 'url': '/biz/inga-donut-san-francisco?osq=Donut+Shop', 'stars': '3', 'reviews': '37', 'tags': 'Donuts|Chinese', 'price': '$', 'dining': None, 'delivery': None, 'takeout': None, 'yelp': 0}\n",
      "{'_id': ObjectId('62204089fb45f97290ef6486'), 'rank': '24', 'name': 'ONE65 Patisserie & Boutique', 'url': '/biz/one65-patisserie-and-boutique-san-francisco-3?osq=Donut+Shop', 'stars': '4.5', 'reviews': '314', 'tags': 'Patisserie/Cake Shop|Bakeries|Coffee & Tea', 'price': '$$', 'dining': None, 'delivery': 1, 'takeout': 1, 'yelp': 1}\n",
      "{'_id': ObjectId('62204089fb45f97290ef6487'), 'rank': '25', 'name': 'Cafe Madeleine', 'url': '/biz/cafe-madeleine-san-francisco-3?osq=Donut+Shop', 'stars': '4', 'reviews': '494', 'tags': 'Bakeries|Coffee & Tea|Sandwiches', 'price': '$', 'dining': 1, 'delivery': 1, 'takeout': 1, 'yelp': 0}\n",
      "{'_id': ObjectId('62204089fb45f97290ef6488'), 'rank': '26', 'name': 'Fillmore Bakeshop', 'url': '/biz/fillmore-bakeshop-san-francisco?osq=Donut+Shop', 'stars': '4', 'reviews': '550', 'tags': 'Desserts|Bakeries', 'price': '$$', 'dining': None, 'delivery': 0, 'takeout': 1, 'yelp': 0}\n",
      "{'_id': ObjectId('62204089fb45f97290ef6489'), 'rank': '27', 'name': 'Les Gourmands Bakery', 'url': '/biz/les-gourmands-bakery-san-francisco?osq=Donut+Shop', 'stars': '4.5', 'reviews': '386', 'tags': 'Bakeries|Coffee & Tea|Patisserie/Cake Shop', 'price': '$$', 'dining': None, 'delivery': None, 'takeout': None, 'yelp': 0}\n",
      "{'_id': ObjectId('62204089fb45f97290ef648a'), 'rank': '28', 'name': 'The Posh Bagel', 'url': '/biz/the-posh-bagel-san-francisco-4?osq=Donut+Shop', 'stars': '3.5', 'reviews': '388', 'tags': 'Bakeries|Bagels|Coffee & Tea', 'price': '$$', 'dining': 0, 'delivery': 0, 'takeout': 1, 'yelp': 0}\n",
      "{'_id': ObjectId('62204089fb45f97290ef648b'), 'rank': '29', 'name': 'Jane The Bakery', 'url': '/biz/jane-the-bakery-san-francisco?osq=Donut+Shop', 'stars': '4.5', 'reviews': '478', 'tags': 'Bakeries|Coffee & Tea|Breakfast & Brunch', 'price': '$', 'dining': None, 'delivery': 1, 'takeout': 1, 'yelp': 1}\n",
      "{'_id': ObjectId('62204089fb45f97290ef648c'), 'rank': '30', 'name': 'Les Croissants Cafe', 'url': '/biz/les-croissants-cafe-san-francisco?osq=Donut+Shop', 'stars': '3.5', 'reviews': '46', 'tags': 'Coffee & Tea|Donuts|Delis', 'price': '$', 'dining': None, 'delivery': None, 'takeout': None, 'yelp': 0}\n",
      "{'_id': ObjectId('62204089fb45f97290ef648d'), 'rank': '31', 'name': 'Hot Cookie', 'url': '/biz/hot-cookie-san-francisco?osq=Donut+Shop', 'stars': '4', 'reviews': '1540', 'tags': 'Bakeries|Desserts', 'price': '$$', 'dining': None, 'delivery': 1, 'takeout': 1, 'yelp': 0}\n",
      "{'_id': ObjectId('62204089fb45f97290ef648e'), 'rank': '32', 'name': 'Golden Gate Bakery', 'url': '/biz/golden-gate-bakery-san-francisco?osq=Donut+Shop', 'stars': '4.5', 'reviews': '3395', 'tags': 'Bakeries', 'price': '$', 'dining': None, 'delivery': None, 'takeout': 1, 'yelp': 0}\n",
      "{'_id': ObjectId('62204089fb45f97290ef648f'), 'rank': '33', 'name': 'Le Bonta Italiane', 'url': '/biz/le-bonta-italiane-san-francisco?osq=Donut+Shop', 'stars': '4.5', 'reviews': '12', 'tags': 'Bakeries|Donuts|Pop-up Shops', 'price': '$', 'dining': None, 'delivery': None, 'takeout': None, 'yelp': 0}\n",
      "{'_id': ObjectId('62204089fb45f97290ef6490'), 'rank': '34', 'name': 'Craftsman and Wolves', 'url': '/biz/craftsman-and-wolves-san-francisco?osq=Donut+Shop', 'stars': '4', 'reviews': '1641', 'tags': 'Bakeries|Patisserie/Cake Shop|Coffee & Tea', 'price': '$$', 'dining': 1, 'delivery': 1, 'takeout': 1, 'yelp': 0}\n",
      "{'_id': ObjectId('62204089fb45f97290ef6491'), 'rank': '35', 'name': 'Benkyodo', 'url': '/biz/benkyodo-san-francisco?osq=Donut+Shop', 'stars': '4.5', 'reviews': '1190', 'tags': 'Bakeries|Candy Stores', 'price': '$$', 'dining': None, 'delivery': None, 'takeout': None, 'yelp': 0}\n",
      "{'_id': ObjectId('62204089fb45f97290ef6492'), 'rank': '36', 'name': 'Yasukochi’s Sweet Stop', 'url': '/biz/yasukochis-sweet-stop-san-francisco?osq=Donut+Shop', 'stars': '4.5', 'reviews': '729', 'tags': 'Bakeries|Desserts', 'price': '$$', 'dining': None, 'delivery': None, 'takeout': None, 'yelp': 0}\n",
      "{'_id': ObjectId('62204089fb45f97290ef6493'), 'rank': '37', 'name': 'Lilikoi', 'url': '/biz/lilikoi-san-francisco?osq=Donut+Shop', 'stars': '4.5', 'reviews': '127', 'tags': 'Bubble Tea|Coffee & Tea|Donuts', 'price': None, 'dining': None, 'delivery': 1, 'takeout': 1, 'yelp': 1}\n",
      "{'_id': ObjectId('62204089fb45f97290ef6494'), 'rank': '38', 'name': 'Latte Express', 'url': '/biz/latte-express-san-francisco-2?osq=Donut+Shop', 'stars': '3.5', 'reviews': '119', 'tags': 'Coffee & Tea|Sandwiches|Breakfast & Brunch', 'price': '$', 'dining': None, 'delivery': None, 'takeout': None, 'yelp': 0}\n",
      "{'_id': ObjectId('62204089fb45f97290ef6495'), 'rank': '39', 'name': 'Star Bagel', 'url': '/biz/star-bagel-san-francisco?osq=Donut+Shop', 'stars': '3.5', 'reviews': '121', 'tags': 'Bagels', 'price': '$', 'dining': None, 'delivery': None, 'takeout': None, 'yelp': 0}\n",
      "{'_id': ObjectId('62204089fb45f97290ef6496'), 'rank': '40', 'name': 'Blue Bottle Coffee', 'url': '/biz/blue-bottle-coffee-san-francisco-21?osq=Donut+Shop', 'stars': '4', 'reviews': '2244', 'tags': 'Coffee & Tea', 'price': '$$', 'dining': None, 'delivery': 1, 'takeout': 0, 'yelp': 0}\n"
     ]
    }
   ],
   "source": [
    "# look at the whole collection\n",
    "for x in sf_donut_shops.find():\n",
    "    print(x)"
   ]
  },
  {
   "cell_type": "markdown",
   "id": "dfac7007",
   "metadata": {},
   "source": [
    "(4) Using Python or Java, write a _new_ piece of code that reads all URLs stored in “sf_donut_shops” and download each shop page. Store the page to disk, “sf_donut_shop_[SR].htm” (replace [SR] with the search rank). (15 points)"
   ]
  },
  {
   "cell_type": "code",
   "execution_count": 251,
   "id": "7a348f22",
   "metadata": {},
   "outputs": [],
   "source": [
    "# select the url field\n",
    "url_list = []\n",
    "for x in sf_donut_shops.find({},{\"_id\": 0,\"url\": 1}):\n",
    "    url_list.append('https://www.yelp.com/' + x['url'])"
   ]
  },
  {
   "cell_type": "code",
   "execution_count": 259,
   "id": "5ad4e5a0",
   "metadata": {},
   "outputs": [
    {
     "name": "stdout",
     "output_type": "stream",
     "text": [
      "shop 1 complete!\n",
      "shop 2 complete!\n",
      "shop 3 complete!\n",
      "shop 4 complete!\n",
      "shop 5 complete!\n",
      "shop 6 complete!\n",
      "shop 7 complete!\n",
      "shop 8 complete!\n",
      "shop 9 complete!\n",
      "shop 10 complete!\n",
      "shop 11 complete!\n",
      "shop 12 complete!\n",
      "shop 13 complete!\n",
      "shop 14 complete!\n",
      "shop 15 complete!\n",
      "shop 16 complete!\n",
      "shop 17 complete!\n",
      "shop 18 complete!\n",
      "shop 19 complete!\n",
      "shop 20 complete!\n",
      "shop 21 complete!\n",
      "shop 22 complete!\n",
      "shop 23 complete!\n",
      "shop 24 complete!\n",
      "shop 25 complete!\n",
      "shop 26 complete!\n",
      "shop 27 complete!\n",
      "shop 28 complete!\n",
      "shop 29 complete!\n",
      "shop 30 complete!\n",
      "shop 31 complete!\n",
      "shop 32 complete!\n",
      "shop 33 complete!\n",
      "shop 34 complete!\n",
      "shop 35 complete!\n",
      "shop 36 complete!\n",
      "shop 37 complete!\n",
      "shop 38 complete!\n",
      "shop 39 complete!\n",
      "shop 40 complete!\n"
     ]
    }
   ],
   "source": [
    "for i in range(0,len(url_list)):\n",
    "    # request the URL page content\n",
    "    page = requests.get(url_list[i], headers=headers)\n",
    "\n",
    "    ## save the content to a new file\n",
    "    # create file name\n",
    "    f_name = 'sf_donut_shop_'+str(i+1)+'.htm'\n",
    "    # create and open a file\n",
    "    f = open(f_name,'wb+')\n",
    "    # write to the file\n",
    "    f.write(page.content)\n",
    "    #close the file\n",
    "    f.close()\n",
    "    print('shop',str(i+1),'complete!')\n",
    "    \n",
    "    # wait before accessing next page\n",
    "    time.sleep(30)"
   ]
  },
  {
   "cell_type": "markdown",
   "id": "ff189dc3",
   "metadata": {},
   "source": [
    "(5) Using Python or Java, write new code that reads the 40 shop pages saved in (4) and parses each shop’s address, phone number, and website. (15 points)"
   ]
  },
  {
   "cell_type": "code",
   "execution_count": 260,
   "id": "e437bcae",
   "metadata": {},
   "outputs": [],
   "source": [
    "# create an empty list to store the 40 beatifulsoup objects\n",
    "shop_list = []\n",
    "for p in range(1,41):\n",
    "    # open the file\n",
    "    f_name = 'sf_donut_shop_'+str(p)+'.htm'\n",
    "    with open(f_name, 'r', encoding='utf-8') as t:\n",
    "        shop = BeautifulSoup(t.read(), 'lxml')\n",
    "    # append to the list\n",
    "    shop_list.append(shop)"
   ]
  },
  {
   "cell_type": "code",
   "execution_count": 263,
   "id": "4be15786",
   "metadata": {},
   "outputs": [],
   "source": [
    "try1 = shop_list[0]"
   ]
  },
  {
   "cell_type": "code",
   "execution_count": 270,
   "id": "07d76ae5",
   "metadata": {},
   "outputs": [
    {
     "name": "stdout",
     "output_type": "stream",
     "text": [
      "1621 Polk St San Francisco, CA 94109\n",
      "1455 Market St San Francisco, CA 94103\n",
      "299 Ellis St San Francisco, CA 94102\n",
      "390 Golden Gate Ave San Francisco, CA 94102\n",
      "509 Laguna St San Francisco, CA 94102\n",
      "392 Fulton St San Francisco, CA 94102\n",
      "1737 Post St Ste 395 San Francisco, CA 94115\n",
      "98 9th St San Francisco, CA 94103\n",
      "601 Baker St San Francisco, CA 94117\n",
      "1549 Polk St San Francisco, CA 94109\n",
      "2195 Mission St San Francisco, CA 94110\n",
      "1 Ferry Bldg Ste 14 San Francisco, CA 94111\n",
      "399 5th St San Francisco, CA 94107\n",
      "145 Columbus Ave San Francisco, CA 94133\n",
      "453 Ofarrell St San Francisco, CA 94102\n",
      "1500 Market St San Francisco, CA 94102\n",
      "2799 16th St San Francisco, CA 94103\n",
      "100 Bush St San Francisco, CA 94111\n",
      "2101 Van Ness Ave San Francisco, CA 94109\n",
      "290 Golden Gate Ave San Francisco, CA 94102\n",
      "248 Fillmore St San Francisco, CA 94117\n",
      "1717 17th St Ste 105 San Francisco, CA 94103\n",
      "1026 Hyde St San Francisco, CA 94109\n",
      "165 O'Farrell St San Francisco, CA 94102\n",
      "149 New Montgomery St San Francisco, CA 94105\n",
      "1890 Fillmore St San Francisco, CA 94115\n",
      "280 5th St San Francisco, CA 94103\n",
      "270 Sutter St San Francisco, CA 94108\n",
      "1881 Geary Blvd San Francisco, CA 94115\n",
      "1840 Geary Blvd San Francisco, CA 94115\n",
      "407 Castro St San Francisco, CA 94114\n",
      "1029 Grant Ave San Francisco, CA 94133\n",
      "1 Ferry Building San Francisco, CA 94111\n",
      "746 Valencia St San Francisco, CA 94110\n",
      "1747 Buchanan St San Francisco, CA 94115\n",
      "1790 Sutter St San Francisco, CA 94115\n",
      "3108 Fillmore St Ste C San Francisco, CA 94123\n",
      "648 4th St San Francisco, CA 94107\n",
      "1475 Polk St San Francisco, CA 94109\n",
      "66 Mint St San Francisco, CA 94103\n"
     ]
    }
   ],
   "source": [
    "# parse address\n",
    "for i in shop_list:\n",
    "    p = i.find(\"p\",{\"class\":\"css-qyp8bo\"})\n",
    "    address = p.text\n",
    "    print(address)"
   ]
  },
  {
   "cell_type": "code",
   "execution_count": 410,
   "id": "7a24b600",
   "metadata": {},
   "outputs": [
    {
     "data": {
      "text/plain": [
       "['(415) 776-3141',\n",
       " '(415) 864-0888',\n",
       " '(415) 440-1010',\n",
       " '(415) 749-0202',\n",
       " '(415) 676-0576',\n",
       " '(415) 400-5078',\n",
       " '(650) 619-2462',\n",
       " '(415) 863-4949',\n",
       " '(415) 776-3141',\n",
       " '(415) 885-1942',\n",
       " None,\n",
       " None,\n",
       " '(415) 882-0889',\n",
       " '(415) 956-9189',\n",
       " '(415) 673-7003',\n",
       " '(415) 252-9888',\n",
       " '(415) 861-7112',\n",
       " '(415) 398-6769',\n",
       " '(415) 800-7399',\n",
       " '(415) 921-5541',\n",
       " '(628) 218-6820',\n",
       " '(415) 903-4281',\n",
       " '(415) 771-9611',\n",
       " '(415) 814-8888',\n",
       " '(415) 227-4077',\n",
       " '(415) 923-0711',\n",
       " '(415) 872-9461',\n",
       " '(415) 951-0133',\n",
       " '(415) 658-7971',\n",
       " '(415) 292-6688',\n",
       " '(415) 621-2350',\n",
       " '(415) 781-2627',\n",
       " None,\n",
       " '(415) 913-7713',\n",
       " '(415) 922-1244',\n",
       " '(415) 931-8165',\n",
       " '(415) 529-1496',\n",
       " '(415) 348-8898',\n",
       " '(415) 567-9955',\n",
       " '(510) 653-3394']"
      ]
     },
     "execution_count": 410,
     "metadata": {},
     "output_type": "execute_result"
    }
   ],
   "source": [
    "# parse phone number\n",
    "phone_list = []\n",
    "for i in shop_list:\n",
    "    p = i.find_all(\"section\",{\"class\":\"margin-b3__09f24__l9v5d border-color--default__09f24__NPAKY\"})\n",
    "    target = p[1]\n",
    "    # find whether phone number exist\n",
    "    exist_tag = target.find_all(\"p\",{\"class\":\"css-na3oda\"})\n",
    "    if len(exist_tag) == 0:\n",
    "        phone = None\n",
    "        phone_list.append(phone)\n",
    "        continue\n",
    "    else:\n",
    "        for t in exist_tag:\n",
    "            tag = t.text\n",
    "            if tag == 'Phone number':\n",
    "                # phone number tag exist, let's find the phone number\n",
    "                new_p = target.find_all(\"p\",{\"class\":\"css-1p9ibgf\"})\n",
    "                for x in new_p:\n",
    "                    try:\n",
    "                        rst = x.text\n",
    "                        match = re.match('(\\(\\d+\\)\\s.+)',rst)\n",
    "                        phone = match.group(1)\n",
    "                    except:\n",
    "                        continue\n",
    "            else:\n",
    "                phone = None\n",
    "                continue\n",
    "        phone_list.append(phone)\n",
    "phone_list"
   ]
  },
  {
   "cell_type": "code",
   "execution_count": 295,
   "id": "99e8841e",
   "metadata": {},
   "outputs": [
    {
     "name": "stdout",
     "output_type": "stream",
     "text": [
      "http://www.bobsdonutssf.com\n",
      "https://www.sfdough.com\n",
      "None\n",
      "http://gatewaycroissantsanfran…\n",
      "http://hahdough.com\n",
      "http://johnnydoughnuts.com\n",
      "https://www.mochillsf.com\n",
      "http://allstarcafe.top-cafes.c…\n",
      "https://www.bobsdonutssf.com\n",
      "None\n",
      "None\n",
      "https://www.vegandonut.farm\n",
      "None\n",
      "None\n",
      "None\n",
      "None\n",
      "None\n",
      "None\n",
      "http://happydonutssanfrancisco…\n",
      "None\n",
      "http://www.chouxsf.com\n",
      "https://www.milkbombicecream.c…\n",
      "None\n",
      "https://one65sf.com\n",
      "http://www.cafemadeleinesf.com\n",
      "http://fillmorebakeshop.com/\n",
      "None\n",
      "http://theposhbagelsanfrancisc…\n",
      "https://www.itsjane.com\n",
      "None\n",
      "http://www.hotcookie.com\n",
      "None\n",
      "None\n",
      "http://craftsman-wolves.com\n",
      "http://www.benkyodocompany.com…\n",
      "https://www.sweetstopsf.com\n",
      "https://lilikoiboba.com\n",
      "None\n",
      "None\n",
      "https://bluebottlecoffee.com\n"
     ]
    }
   ],
   "source": [
    "# parse website\n",
    "for i in shop_list:\n",
    "    a = i.find(\"a\",{\"class\":\"css-1um3nx\",\"target\":\"_blank\"})\n",
    "    try:\n",
    "        url = a.text\n",
    "        print(url)\n",
    "    except:\n",
    "        print(None)"
   ]
  },
  {
   "cell_type": "markdown",
   "id": "0f6fe2ce",
   "metadata": {},
   "source": [
    "(6) Sign up for a free account with https://positionstack.com/ Adjust your code in (5) to query each shop address’ geolocation (long, lat). Update each shop document on the MongoDB collection “sf_donut_shops” to contain the shop’s address, phone number, website, and geolocation. Lastly, place an index on the shop’s search rank. (20 points)"
   ]
  },
  {
   "cell_type": "code",
   "execution_count": 302,
   "id": "9660812f",
   "metadata": {},
   "outputs": [],
   "source": [
    "import json"
   ]
  },
  {
   "cell_type": "code",
   "execution_count": 300,
   "id": "0fdabc89",
   "metadata": {},
   "outputs": [],
   "source": [
    "# set up API access indormation\n",
    "base_url = 'http://api.positionstack.com/v1/forward?access_key=6fd8fed2f3d30760d95c7bbc83864ac3&output=json'"
   ]
  },
  {
   "cell_type": "code",
   "execution_count": 297,
   "id": "064fefaf",
   "metadata": {},
   "outputs": [],
   "source": [
    "# create a list of all addresses\n",
    "address_list = []\n",
    "for i in shop_list:\n",
    "    p = i.find(\"p\",{\"class\":\"css-qyp8bo\"})\n",
    "    address = p.text\n",
    "    address_list.append(address)"
   ]
  },
  {
   "cell_type": "code",
   "execution_count": 317,
   "id": "7d1dac26",
   "metadata": {},
   "outputs": [],
   "source": [
    "# query the geolocation information from the API\n",
    "json_dict = []\n",
    "for a in address_list:\n",
    "    url = base_url + '&query=' + a\n",
    "    page= requests.get(url,headers=headers)\n",
    "    doc= BeautifulSoup(page.content, 'html.parser')\n",
    "    json_dict.append(json.loads(str(doc))['data'][0])"
   ]
  },
  {
   "cell_type": "code",
   "execution_count": 331,
   "id": "e0afe99f",
   "metadata": {},
   "outputs": [],
   "source": [
    "# creat a list of geolocation infromation\n",
    "geo_list = []\n",
    "for i in json_dict:\n",
    "    new_dic = {}\n",
    "    new_dic['latitude'] = i['latitude']\n",
    "    new_dic['longitude'] = i['longitude']\n",
    "    geo_list.append(new_dic)"
   ]
  },
  {
   "cell_type": "code",
   "execution_count": 412,
   "id": "a7197ace",
   "metadata": {},
   "outputs": [],
   "source": [
    "# creat a list of phone number\n",
    "phone_list = []\n",
    "for i in shop_list:\n",
    "    p = i.find_all(\"section\",{\"class\":\"margin-b3__09f24__l9v5d border-color--default__09f24__NPAKY\"})\n",
    "    target = p[1]\n",
    "    # find whether phone number exist\n",
    "    exist_tag = target.find_all(\"p\",{\"class\":\"css-na3oda\"})\n",
    "    if len(exist_tag) == 0:\n",
    "        phone = None\n",
    "        phone_list.append(phone)\n",
    "        continue\n",
    "    else:\n",
    "        for t in exist_tag:\n",
    "            tag = t.text\n",
    "            if tag == 'Phone number':\n",
    "                # phone number tag exist, let's find the phone number\n",
    "                new_p = target.find_all(\"p\",{\"class\":\"css-1p9ibgf\"})\n",
    "                for x in new_p:\n",
    "                    try:\n",
    "                        rst = x.text\n",
    "                        match = re.match('(\\(\\d+\\)\\s.+)',rst)\n",
    "                        phone = match.group(1)\n",
    "                    except:\n",
    "                        continue\n",
    "            else:\n",
    "                phone = None\n",
    "                continue\n",
    "        phone_list.append(phone)"
   ]
  },
  {
   "cell_type": "code",
   "execution_count": 335,
   "id": "8d1a8185",
   "metadata": {},
   "outputs": [],
   "source": [
    "# create a list of website\n",
    "web_list = []\n",
    "for i in shop_list:\n",
    "    a = i.find(\"a\",{\"class\":\"css-1um3nx\",\"target\":\"_blank\"})\n",
    "    try:\n",
    "        url = a.text\n",
    "        new = url\n",
    "    except:\n",
    "        new = None\n",
    "    web_list.append(new)"
   ]
  },
  {
   "cell_type": "code",
   "execution_count": 413,
   "id": "340dbdbc",
   "metadata": {},
   "outputs": [],
   "source": [
    "# Update address, phone number, website, and geolocation to \"sf_donut_shops\" collection\n",
    "n=0\n",
    "for c in sf_donut_shops.find():\n",
    "    sf_donut_shops.update_one({'_id':c['_id']},{'$set' : {'address':address_list[n]}})\n",
    "    sf_donut_shops.update_one({'_id':c['_id']},{'$set' : {'phone':phone_list[n]}})\n",
    "    sf_donut_shops.update_one({'_id':c['_id']},{'$set' : {'website':web_list[n]}})\n",
    "    sf_donut_shops.update_one({'_id':c['_id']},{'$set' : {'geolocation':geo_list[n]}})\n",
    "    n = n + 1"
   ]
  },
  {
   "cell_type": "code",
   "execution_count": 414,
   "id": "1373d87e",
   "metadata": {},
   "outputs": [
    {
     "name": "stdout",
     "output_type": "stream",
     "text": [
      "{'_id': ObjectId('62204089fb45f97290ef646f'), 'rank': '1', 'name': 'Bob’s Donuts & Pastry Shop', 'url': '/biz/bobs-donuts-and-pastry-shop-san-francisco?osq=Donut+Shop', 'stars': '4.5', 'reviews': '3328', 'tags': 'Bakeries|Donuts', 'price': '$', 'dining': None, 'delivery': None, 'takeout': None, 'yelp': 0, 'address': '1621 Polk St San Francisco, CA 94109', 'phone': '(415) 776-3141', 'website': 'http://www.bobsdonutssf.com', 'geolocation': {'latitude': 37.791852, 'longitude': -122.421276}}\n",
      "{'_id': ObjectId('62204089fb45f97290ef6470'), 'rank': '2', 'name': 'Dough', 'url': '/biz/dough-san-francisco?osq=Donut+Shop', 'stars': '4.5', 'reviews': '73', 'tags': 'Donuts|Pizza', 'price': None, 'dining': None, 'delivery': 1, 'takeout': 1, 'yelp': 1, 'address': '1455 Market St San Francisco, CA 94103', 'phone': '(415) 864-0888', 'website': 'https://www.sfdough.com', 'geolocation': {'latitude': 37.775238, 'longitude': -122.417523}}\n",
      "{'_id': ObjectId('62204089fb45f97290ef6471'), 'rank': '3', 'name': 'Happy Donut', 'url': '/biz/happy-donut-san-francisco-8?osq=Donut+Shop', 'stars': '4', 'reviews': '42', 'tags': 'Donuts', 'price': '$', 'dining': None, 'delivery': None, 'takeout': None, 'yelp': 0, 'address': '299 Ellis St San Francisco, CA 94102', 'phone': '(415) 440-1010', 'website': None, 'geolocation': {'latitude': 37.784894, 'longitude': -122.410896}}\n",
      "{'_id': ObjectId('62204089fb45f97290ef6472'), 'rank': '4', 'name': 'Gateway Croissant', 'url': '/biz/gateway-croissant-san-francisco-2?osq=Donut+Shop', 'stars': '3.5', 'reviews': '125', 'tags': 'Coffee & Tea|Donuts|Bagels', 'price': '$', 'dining': 0, 'delivery': 1, 'takeout': 1, 'yelp': 1, 'address': '390 Golden Gate Ave San Francisco, CA 94102', 'phone': '(415) 749-0202', 'website': 'http://gatewaycroissantsanfran…', 'geolocation': {'latitude': 37.781768, 'longitude': -122.416851}}\n",
      "{'_id': ObjectId('62204089fb45f97290ef6473'), 'rank': '5', 'name': 'Hahdough', 'url': '/biz/hahdough-san-francisco-5?osq=Donut+Shop', 'stars': '4.5', 'reviews': '72', 'tags': 'Donuts|Patisserie/Cake Shop|Pretzels', 'price': '$$', 'dining': None, 'delivery': 1, 'takeout': None, 'yelp': 0, 'address': '509 Laguna St San Francisco, CA 94102', 'phone': '(415) 676-0576', 'website': 'http://hahdough.com', 'geolocation': {'latitude': 37.77586, 'longitude': -122.426313}}\n",
      "{'_id': ObjectId('62204089fb45f97290ef6474'), 'rank': '6', 'name': 'Johnny Doughnuts', 'url': '/biz/johnny-doughnuts-san-francisco-4?osq=Donut+Shop', 'stars': '3.5', 'reviews': '220', 'tags': 'Donuts|Coffee & Tea|Food Trucks', 'price': '$$', 'dining': 1, 'delivery': 1, 'takeout': 1, 'yelp': 0, 'address': '392 Fulton St San Francisco, CA 94102', 'phone': '(415) 400-5078', 'website': 'http://johnnydoughnuts.com', 'geolocation': {'latitude': 37.77889, 'longitude': -122.423215}}\n",
      "{'_id': ObjectId('62204089fb45f97290ef6475'), 'rank': '7', 'name': 'Mochill Mochi Donut', 'url': '/biz/mochill-mochi-donut-san-francisco?osq=Donut+Shop', 'stars': '4.5', 'reviews': '819', 'tags': 'Donuts', 'price': None, 'dining': None, 'delivery': None, 'takeout': 1, 'yelp': 0, 'address': '1737 Post St Ste 395 San Francisco, CA 94115', 'phone': '(650) 619-2462', 'website': 'https://www.mochillsf.com', 'geolocation': {'latitude': 37.778008, 'longitude': -122.431272}}\n",
      "{'_id': ObjectId('62204089fb45f97290ef6476'), 'rank': '8', 'name': 'All Star Cafe', 'url': '/biz/all-star-cafe-san-francisco-3?osq=Donut+Shop', 'stars': '4', 'reviews': '208', 'tags': 'Donuts|Coffee & Tea|Breakfast & Brunch', 'price': '$', 'dining': None, 'delivery': 1, 'takeout': 1, 'yelp': 1, 'address': '98 9th St San Francisco, CA 94103', 'phone': '(415) 863-4949', 'website': 'http://allstarcafe.top-cafes.c…', 'geolocation': {'latitude': 37.776285, 'longitude': -122.415086}}\n",
      "{'_id': ObjectId('62204089fb45f97290ef6477'), 'rank': '9', 'name': 'Bob’s Donuts', 'url': '/biz/bobs-donuts-san-francisco-2?osq=Donut+Shop', 'stars': '4.5', 'reviews': '117', 'tags': 'Donuts|Bakeries', 'price': '$', 'dining': None, 'delivery': None, 'takeout': 1, 'yelp': 0, 'address': '601 Baker St San Francisco, CA 94117', 'phone': '(415) 776-3141', 'website': 'https://www.bobsdonutssf.com', 'geolocation': {'latitude': 37.776539, 'longitude': -122.441854}}\n",
      "{'_id': ObjectId('62204089fb45f97290ef6478'), 'rank': '10', 'name': 'Donuts & Things', 'url': '/biz/donuts-and-things-san-francisco?osq=Donut+Shop', 'stars': '4.5', 'reviews': '119', 'tags': 'Donuts|Coffee & Tea', 'price': '$', 'dining': 0, 'delivery': 0, 'takeout': 1, 'yelp': 0, 'address': '1549 Polk St San Francisco, CA 94109', 'phone': '(415) 885-1942', 'website': None, 'geolocation': {'latitude': 37.791235, 'longitude': -122.421144}}\n",
      "{'_id': ObjectId('62204089fb45f97290ef6479'), 'rank': '11', 'name': 'Grand Mission Donuts & Bakery', 'url': '/biz/grand-mission-donuts-and-bakery-san-francisco?osq=Donut+Shop', 'stars': '4', 'reviews': '104', 'tags': 'Donuts|Bakeries', 'price': '$', 'dining': None, 'delivery': None, 'takeout': None, 'yelp': 0, 'address': '2195 Mission St San Francisco, CA 94110', 'phone': None, 'website': None, 'geolocation': {'latitude': 37.762004, 'longitude': -122.419065}}\n",
      "{'_id': ObjectId('62204089fb45f97290ef647a'), 'rank': '12', 'name': 'Donut Farm', 'url': '/biz/donut-farm-san-francisco?osq=Donut+Shop', 'stars': '4', 'reviews': '319', 'tags': 'Donuts|Vegan', 'price': '$', 'dining': None, 'delivery': None, 'takeout': 1, 'yelp': 0, 'address': '1 Ferry Bldg Ste 14 San Francisco, CA 94111', 'phone': None, 'website': 'https://www.vegandonut.farm', 'geolocation': {'latitude': 37.796258, 'longitude': -122.393871}}\n",
      "{'_id': ObjectId('62204089fb45f97290ef647b'), 'rank': '13', 'name': 'All Stars Donuts', 'url': '/biz/all-stars-donuts-san-francisco?osq=Donut+Shop', 'stars': '3.5', 'reviews': '129', 'tags': 'Donuts|Coffee & Tea|Fast Food', 'price': '$', 'dining': None, 'delivery': None, 'takeout': None, 'yelp': 0, 'address': '399 5th St San Francisco, CA 94107', 'phone': '(415) 882-0889', 'website': None, 'geolocation': {'latitude': 37.778008, 'longitude': -122.431272}}\n",
      "{'_id': ObjectId('62204089fb45f97290ef647c'), 'rank': '14', 'name': 'Happy Donut', 'url': '/biz/happy-donut-san-francisco-7?osq=Donut+Shop', 'stars': '4', 'reviews': '185', 'tags': 'Donuts|Coffee & Tea|Sandwiches', 'price': '$', 'dining': None, 'delivery': None, 'takeout': None, 'yelp': 0, 'address': '145 Columbus Ave San Francisco, CA 94133', 'phone': '(415) 956-9189', 'website': None, 'geolocation': {'latitude': 37.796872, 'longitude': -122.405494}}\n",
      "{'_id': ObjectId('62204089fb45f97290ef647d'), 'rank': '15', 'name': 'Paradise Coffee and Donuts', 'url': '/biz/paradise-coffee-and-donuts-san-francisco?osq=Donut+Shop', 'stars': '3.5', 'reviews': '6', 'tags': 'Donuts', 'price': '$', 'dining': None, 'delivery': None, 'takeout': None, 'yelp': 0, 'address': '453 Ofarrell St San Francisco, CA 94102', 'phone': '(415) 673-7003', 'website': None, 'geolocation': {'latitude': 37.785751, 'longitude': -122.412393}}\n",
      "{'_id': ObjectId('62204089fb45f97290ef647e'), 'rank': '16', 'name': 'All Star Cafe', 'url': '/biz/all-star-cafe-san-francisco?osq=Donut+Shop', 'stars': '3.5', 'reviews': '134', 'tags': 'Coffee & Tea|Cafes', 'price': '$', 'dining': None, 'delivery': 1, 'takeout': 1, 'yelp': 0, 'address': '1500 Market St San Francisco, CA 94102', 'phone': '(415) 252-9888', 'website': None, 'geolocation': {'latitude': 37.775217, 'longitude': -122.419519}}\n",
      "{'_id': ObjectId('62204089fb45f97290ef647f'), 'rank': '17', 'name': 'Jim Georgie’s Donuts', 'url': '/biz/jim-georgies-donuts-san-francisco-2?osq=Donut+Shop', 'stars': '3.5', 'reviews': '26', 'tags': 'Donuts', 'price': '$', 'dining': None, 'delivery': None, 'takeout': None, 'yelp': 0, 'address': '2799 16th St San Francisco, CA 94103', 'phone': '(415) 861-7112', 'website': None, 'geolocation': {'latitude': 37.765193, 'longitude': -122.415113}}\n",
      "{'_id': ObjectId('62204089fb45f97290ef6480'), 'rank': '18', 'name': 'Happy Donuts', 'url': '/biz/happy-donuts-san-francisco-19?osq=Donut+Shop', 'stars': '3.5', 'reviews': '218', 'tags': 'Donuts|Vietnamese|Thai', 'price': '$', 'dining': None, 'delivery': None, 'takeout': None, 'yelp': 0, 'address': '100 Bush St San Francisco, CA 94111', 'phone': '(415) 398-6769', 'website': None, 'geolocation': {'latitude': 37.791569, 'longitude': -122.399964}}\n",
      "{'_id': ObjectId('62204089fb45f97290ef6481'), 'rank': '19', 'name': 'Happy Donuts', 'url': '/biz/happy-donuts-san-francisco-4?osq=Donut+Shop', 'stars': '3.5', 'reviews': '73', 'tags': 'Donuts|Bagels|Breakfast & Brunch', 'price': '$', 'dining': None, 'delivery': None, 'takeout': None, 'yelp': 0, 'address': '2101 Van Ness Ave San Francisco, CA 94109', 'phone': '(415) 800-7399', 'website': 'http://happydonutssanfrancisco…', 'geolocation': {'latitude': 37.795039, 'longitude': -122.423627}}\n",
      "{'_id': ObjectId('62204089fb45f97290ef6482'), 'rank': '20', 'name': 'Allstar Donuts & Burgers', 'url': '/biz/allstar-donuts-and-burgers-san-francisco?osq=Donut+Shop', 'stars': '3.5', 'reviews': '28', 'tags': 'Burgers|Donuts', 'price': '$', 'dining': None, 'delivery': None, 'takeout': None, 'yelp': 0, 'address': '290 Golden Gate Ave San Francisco, CA 94102', 'phone': '(415) 921-5541', 'website': None, 'geolocation': {'latitude': 37.781928, 'longitude': -122.415341}}\n",
      "{'_id': ObjectId('62204089fb45f97290ef6483'), 'rank': '21', 'name': 'Choux', 'url': '/biz/choux-san-francisco?osq=Donut+Shop', 'stars': '4', 'reviews': '302', 'tags': 'Bakeries|Desserts|French', 'price': '$', 'dining': 0, 'delivery': 1, 'takeout': 1, 'yelp': 1, 'address': '248 Fillmore St San Francisco, CA 94117', 'phone': '(628) 218-6820', 'website': 'http://www.chouxsf.com', 'geolocation': {'latitude': 37.77184, 'longitude': -122.43029}}\n",
      "{'_id': ObjectId('62204089fb45f97290ef6484'), 'rank': '22', 'name': 'Milkbomb Ice Cream', 'url': '/biz/milkbomb-ice-cream-san-francisco-3?osq=Donut+Shop', 'stars': '4.5', 'reviews': '701', 'tags': 'Ice Cream & Frozen Yogurt|Donuts', 'price': '$$', 'dining': None, 'delivery': 1, 'takeout': 1, 'yelp': 0, 'address': '1717 17th St Ste 105 San Francisco, CA 94103', 'phone': '(415) 903-4281', 'website': 'https://www.milkbombicecream.c…', 'geolocation': {'latitude': 37.778008, 'longitude': -122.431272}}\n",
      "{'_id': ObjectId('62204089fb45f97290ef6485'), 'rank': '23', 'name': 'Inga Donut', 'url': '/biz/inga-donut-san-francisco?osq=Donut+Shop', 'stars': '3', 'reviews': '37', 'tags': 'Donuts|Chinese', 'price': '$', 'dining': None, 'delivery': None, 'takeout': None, 'yelp': 0, 'address': '1026 Hyde St San Francisco, CA 94109', 'phone': '(415) 771-9611', 'website': None, 'geolocation': {'latitude': 37.790392, 'longitude': -122.417046}}\n",
      "{'_id': ObjectId('62204089fb45f97290ef6486'), 'rank': '24', 'name': 'ONE65 Patisserie & Boutique', 'url': '/biz/one65-patisserie-and-boutique-san-francisco-3?osq=Donut+Shop', 'stars': '4.5', 'reviews': '314', 'tags': 'Patisserie/Cake Shop|Bakeries|Coffee & Tea', 'price': '$$', 'dining': None, 'delivery': 1, 'takeout': 1, 'yelp': 1, 'address': \"165 O'Farrell St San Francisco, CA 94102\", 'phone': '(415) 814-8888', 'website': 'https://one65sf.com', 'geolocation': {'latitude': 37.786208, 'longitude': -122.40734}}\n",
      "{'_id': ObjectId('62204089fb45f97290ef6487'), 'rank': '25', 'name': 'Cafe Madeleine', 'url': '/biz/cafe-madeleine-san-francisco-3?osq=Donut+Shop', 'stars': '4', 'reviews': '494', 'tags': 'Bakeries|Coffee & Tea|Sandwiches', 'price': '$', 'dining': 1, 'delivery': 1, 'takeout': 1, 'yelp': 0, 'address': '149 New Montgomery St San Francisco, CA 94105', 'phone': '(415) 227-4077', 'website': 'http://www.cafemadeleinesf.com', 'geolocation': {'latitude': 37.786971, 'longitude': -122.399577}}\n",
      "{'_id': ObjectId('62204089fb45f97290ef6488'), 'rank': '26', 'name': 'Fillmore Bakeshop', 'url': '/biz/fillmore-bakeshop-san-francisco?osq=Donut+Shop', 'stars': '4', 'reviews': '550', 'tags': 'Desserts|Bakeries', 'price': '$$', 'dining': None, 'delivery': 0, 'takeout': 1, 'yelp': 0, 'address': '1890 Fillmore St San Francisco, CA 94115', 'phone': '(415) 923-0711', 'website': 'http://fillmorebakeshop.com/', 'geolocation': {'latitude': 37.786923, 'longitude': -122.433299}}\n",
      "{'_id': ObjectId('62204089fb45f97290ef6489'), 'rank': '27', 'name': 'Les Gourmands Bakery', 'url': '/biz/les-gourmands-bakery-san-francisco?osq=Donut+Shop', 'stars': '4.5', 'reviews': '386', 'tags': 'Bakeries|Coffee & Tea|Patisserie/Cake Shop', 'price': '$$', 'dining': None, 'delivery': None, 'takeout': None, 'yelp': 0, 'address': '280 5th St San Francisco, CA 94103', 'phone': '(415) 872-9461', 'website': None, 'geolocation': {'latitude': 37.778008, 'longitude': -122.431272}}\n",
      "{'_id': ObjectId('62204089fb45f97290ef648a'), 'rank': '28', 'name': 'The Posh Bagel', 'url': '/biz/the-posh-bagel-san-francisco-4?osq=Donut+Shop', 'stars': '3.5', 'reviews': '388', 'tags': 'Bakeries|Bagels|Coffee & Tea', 'price': '$$', 'dining': 0, 'delivery': 0, 'takeout': 1, 'yelp': 0, 'address': '270 Sutter St San Francisco, CA 94108', 'phone': '(415) 951-0133', 'website': 'http://theposhbagelsanfrancisc…', 'geolocation': {'latitude': 37.7898, 'longitude': -122.405018}}\n",
      "{'_id': ObjectId('62204089fb45f97290ef648b'), 'rank': '29', 'name': 'Jane The Bakery', 'url': '/biz/jane-the-bakery-san-francisco?osq=Donut+Shop', 'stars': '4.5', 'reviews': '478', 'tags': 'Bakeries|Coffee & Tea|Breakfast & Brunch', 'price': '$', 'dining': None, 'delivery': 1, 'takeout': 1, 'yelp': 1, 'address': '1881 Geary Blvd San Francisco, CA 94115', 'phone': '(415) 658-7971', 'website': 'https://www.itsjane.com', 'geolocation': {'latitude': 37.778008, 'longitude': -122.431272}}\n",
      "{'_id': ObjectId('62204089fb45f97290ef648c'), 'rank': '30', 'name': 'Les Croissants Cafe', 'url': '/biz/les-croissants-cafe-san-francisco?osq=Donut+Shop', 'stars': '3.5', 'reviews': '46', 'tags': 'Coffee & Tea|Donuts|Delis', 'price': '$', 'dining': None, 'delivery': None, 'takeout': None, 'yelp': 0, 'address': '1840 Geary Blvd San Francisco, CA 94115', 'phone': '(415) 292-6688', 'website': None, 'geolocation': {'latitude': 37.778008, 'longitude': -122.431272}}\n",
      "{'_id': ObjectId('62204089fb45f97290ef648d'), 'rank': '31', 'name': 'Hot Cookie', 'url': '/biz/hot-cookie-san-francisco?osq=Donut+Shop', 'stars': '4', 'reviews': '1540', 'tags': 'Bakeries|Desserts', 'price': '$$', 'dining': None, 'delivery': 1, 'takeout': 1, 'yelp': 0, 'address': '407 Castro St San Francisco, CA 94114', 'phone': '(415) 621-2350', 'website': 'http://www.hotcookie.com', 'geolocation': {'latitude': 37.762319, 'longitude': -122.434999}}\n",
      "{'_id': ObjectId('62204089fb45f97290ef648e'), 'rank': '32', 'name': 'Golden Gate Bakery', 'url': '/biz/golden-gate-bakery-san-francisco?osq=Donut+Shop', 'stars': '4.5', 'reviews': '3395', 'tags': 'Bakeries', 'price': '$', 'dining': None, 'delivery': None, 'takeout': 1, 'yelp': 0, 'address': '1029 Grant Ave San Francisco, CA 94133', 'phone': '(415) 781-2627', 'website': None, 'geolocation': {'latitude': 37.796333, 'longitude': -122.407032}}\n",
      "{'_id': ObjectId('62204089fb45f97290ef648f'), 'rank': '33', 'name': 'Le Bonta Italiane', 'url': '/biz/le-bonta-italiane-san-francisco?osq=Donut+Shop', 'stars': '4.5', 'reviews': '12', 'tags': 'Bakeries|Donuts|Pop-up Shops', 'price': '$', 'dining': None, 'delivery': None, 'takeout': None, 'yelp': 0, 'address': '1 Ferry Building San Francisco, CA 94111', 'phone': None, 'website': None, 'geolocation': {'latitude': 37.795631, 'longitude': -122.393177}}\n",
      "{'_id': ObjectId('62204089fb45f97290ef6490'), 'rank': '34', 'name': 'Craftsman and Wolves', 'url': '/biz/craftsman-and-wolves-san-francisco?osq=Donut+Shop', 'stars': '4', 'reviews': '1641', 'tags': 'Bakeries|Patisserie/Cake Shop|Coffee & Tea', 'price': '$$', 'dining': 1, 'delivery': 1, 'takeout': 1, 'yelp': 0, 'address': '746 Valencia St San Francisco, CA 94110', 'phone': '(415) 913-7713', 'website': 'http://craftsman-wolves.com', 'geolocation': {'latitude': 37.761307, 'longitude': -122.42173}}\n",
      "{'_id': ObjectId('62204089fb45f97290ef6491'), 'rank': '35', 'name': 'Benkyodo', 'url': '/biz/benkyodo-san-francisco?osq=Donut+Shop', 'stars': '4.5', 'reviews': '1190', 'tags': 'Bakeries|Candy Stores', 'price': '$$', 'dining': None, 'delivery': None, 'takeout': None, 'yelp': 0, 'address': '1747 Buchanan St San Francisco, CA 94115', 'phone': '(415) 922-1244', 'website': 'http://www.benkyodocompany.com…', 'geolocation': {'latitude': 37.786348, 'longitude': -122.430265}}\n",
      "{'_id': ObjectId('62204089fb45f97290ef6492'), 'rank': '36', 'name': 'Yasukochi’s Sweet Stop', 'url': '/biz/yasukochis-sweet-stop-san-francisco?osq=Donut+Shop', 'stars': '4.5', 'reviews': '729', 'tags': 'Bakeries|Desserts', 'price': '$$', 'dining': None, 'delivery': None, 'takeout': None, 'yelp': 0, 'address': '1790 Sutter St San Francisco, CA 94115', 'phone': '(415) 931-8165', 'website': 'https://www.sweetstopsf.com', 'geolocation': {'latitude': 37.786736, 'longitude': -122.429783}}\n",
      "{'_id': ObjectId('62204089fb45f97290ef6493'), 'rank': '37', 'name': 'Lilikoi', 'url': '/biz/lilikoi-san-francisco?osq=Donut+Shop', 'stars': '4.5', 'reviews': '127', 'tags': 'Bubble Tea|Coffee & Tea|Donuts', 'price': None, 'dining': None, 'delivery': 1, 'takeout': 1, 'yelp': 1, 'address': '3108 Fillmore St Ste C San Francisco, CA 94123', 'phone': '(415) 529-1496', 'website': 'https://lilikoiboba.com', 'geolocation': {'latitude': 37.798442, 'longitude': -122.435629}}\n",
      "{'_id': ObjectId('62204089fb45f97290ef6494'), 'rank': '38', 'name': 'Latte Express', 'url': '/biz/latte-express-san-francisco-2?osq=Donut+Shop', 'stars': '3.5', 'reviews': '119', 'tags': 'Coffee & Tea|Sandwiches|Breakfast & Brunch', 'price': '$', 'dining': None, 'delivery': None, 'takeout': None, 'yelp': 0, 'address': '648 4th St San Francisco, CA 94107', 'phone': '(415) 348-8898', 'website': None, 'geolocation': {'latitude': 37.777725, 'longitude': -122.395975}}\n",
      "{'_id': ObjectId('62204089fb45f97290ef6495'), 'rank': '39', 'name': 'Star Bagel', 'url': '/biz/star-bagel-san-francisco?osq=Donut+Shop', 'stars': '3.5', 'reviews': '121', 'tags': 'Bagels', 'price': '$', 'dining': None, 'delivery': None, 'takeout': None, 'yelp': 0, 'address': '1475 Polk St San Francisco, CA 94109', 'phone': '(415) 567-9955', 'website': None, 'geolocation': {'latitude': 37.790435, 'longitude': -122.420809}}\n",
      "{'_id': ObjectId('62204089fb45f97290ef6496'), 'rank': '40', 'name': 'Blue Bottle Coffee', 'url': '/biz/blue-bottle-coffee-san-francisco-21?osq=Donut+Shop', 'stars': '4', 'reviews': '2244', 'tags': 'Coffee & Tea', 'price': '$$', 'dining': None, 'delivery': 1, 'takeout': 0, 'yelp': 0, 'address': '66 Mint St San Francisco, CA 94103', 'phone': '(510) 653-3394', 'website': 'https://bluebottlecoffee.com', 'geolocation': {'latitude': 37.78247, 'longitude': -122.407756}}\n"
     ]
    }
   ],
   "source": [
    "# have a look at the updated \"sf_donut_shops\" collection\n",
    "for i in sf_donut_shops.find():\n",
    "    print(i)"
   ]
  },
  {
   "cell_type": "code",
   "execution_count": 416,
   "id": "5401f5d6",
   "metadata": {},
   "outputs": [
    {
     "data": {
      "text/plain": [
       "{'_id_': {'v': 2, 'key': [('_id', 1)]},\n",
       " 'rank_1': {'v': 2, 'key': [('rank', 1)]}}"
      ]
     },
     "execution_count": 416,
     "metadata": {},
     "output_type": "execute_result"
    }
   ],
   "source": [
    "# place an index on the shop’s search rank\n",
    "sf_donut_shops.create_index('rank')\n",
    "# Get indexes\n",
    "sf_donut_shops.index_information()"
   ]
  },
  {
   "cell_type": "code",
   "execution_count": null,
   "id": "6146e487",
   "metadata": {},
   "outputs": [],
   "source": []
  }
 ],
 "metadata": {
  "kernelspec": {
   "display_name": "Python 3",
   "language": "python",
   "name": "python3"
  },
  "language_info": {
   "codemirror_mode": {
    "name": "ipython",
    "version": 3
   },
   "file_extension": ".py",
   "mimetype": "text/x-python",
   "name": "python",
   "nbconvert_exporter": "python",
   "pygments_lexer": "ipython3",
   "version": "3.8.8"
  }
 },
 "nbformat": 4,
 "nbformat_minor": 5
}
